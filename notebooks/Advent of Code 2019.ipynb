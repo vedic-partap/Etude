{
 "cells": [
  {
   "cell_type": "markdown",
   "metadata": {},
   "source": [
    "# Advent of Code 2019\n",
    "\n",
    "<div style=\"text-align: right\"> Vedic Partap </div>"
   ]
  },
  {
   "cell_type": "markdown",
   "metadata": {},
   "source": [
    "## Import and Utility Function"
   ]
  },
  {
   "cell_type": "code",
   "execution_count": 21,
   "metadata": {},
   "outputs": [],
   "source": [
    "import re\n",
    "\n",
    "def get_input(day:int, year:int)->str:\n",
    "    f  = \"../data/adventofcode/{}/{}.txt\".format(year,day)\n",
    "    with open(f,'r') as file:\n",
    "        return preprocess(file.read());\n",
    "def preprocess(s:str):\n",
    "    return [int(x) for x in re.findall(r\"[\\w']+\", s)]\n",
    "    "
   ]
  },
  {
   "cell_type": "markdown",
   "metadata": {},
   "source": [
    "## [Day 1: The Tyranny of the Rocket Equation](https://adventofcode.com/2019/day/1)"
   ]
  },
  {
   "cell_type": "code",
   "execution_count": 31,
   "metadata": {},
   "outputs": [
    {
     "name": "stdout",
     "output_type": "stream",
     "text": [
      "3402609\n",
      "5101025\n"
     ]
    }
   ],
   "source": [
    "input1 = get_input(1,2019)\n",
    "\n",
    "# PART-1\n",
    "def part1(x:int)->int:\n",
    "    return x//3-2\n",
    "\n",
    "output1 = sum([ part1(x) for x in input1])\n",
    "print(output1)\n",
    "\n",
    "# PART-2\n",
    "def part2(x:int)->int:\n",
    "    tot = 0\n",
    "    while x>0:\n",
    "        x = max(part1(x),0)\n",
    "        tot += x\n",
    "    return tot\n",
    "\n",
    "output2 = sum([ part2(x) for x in input1])\n",
    "print(output2)"
   ]
  },
  {
   "cell_type": "markdown",
   "metadata": {},
   "source": [
    "## [Day 2: 1202 Program Alarm](https://adventofcode.com/2019/day/2)"
   ]
  },
  {
   "cell_type": "code",
   "execution_count": 70,
   "metadata": {},
   "outputs": [
    {
     "name": "stdout",
     "output_type": "stream",
     "text": [
      "3716293\n",
      "6429\n"
     ]
    }
   ],
   "source": [
    "def solve(program: list, noun=12, verb=2)->int:\n",
    "    program[1] = noun\n",
    "    program[2] = verb\n",
    "    i = 0\n",
    "    while True:\n",
    "    #     print(input2[i])\n",
    "        if program[i] == 99:\n",
    "            break;\n",
    "        elif program[i] ==1:\n",
    "            program[program[i+3]] = program[program[i+1]] + program[program[i+2]]\n",
    "            i +=4\n",
    "        elif input2[i] ==2:\n",
    "            program[program[i+3]] = program[program[i+1]] * program[program[i+2]]\n",
    "            i +=4\n",
    "        else:\n",
    "            raise Exception('Something Went Wrong')\n",
    "    return program[0]\n",
    "\n",
    "input2 = get_input(2,2019)\n",
    "#PART-1\n",
    "program = input2[:]\n",
    "print(solve(program))\n",
    "\n",
    "# PART-2\n",
    "for i in range(100):\n",
    "    for j in range(100):\n",
    "        program = input2[:]\n",
    "        if solve(program,i,j) == 19690720:\n",
    "            print(100*i + j)"
   ]
  },
  {
   "cell_type": "code",
   "execution_count": null,
   "metadata": {},
   "outputs": [],
   "source": []
  }
 ],
 "metadata": {
  "kernelspec": {
   "display_name": "Python 3",
   "language": "python",
   "name": "python3"
  },
  "language_info": {
   "codemirror_mode": {
    "name": "ipython",
    "version": 3
   },
   "file_extension": ".py",
   "mimetype": "text/x-python",
   "name": "python",
   "nbconvert_exporter": "python",
   "pygments_lexer": "ipython3",
   "version": "3.7.3"
  }
 },
 "nbformat": 4,
 "nbformat_minor": 2
}
