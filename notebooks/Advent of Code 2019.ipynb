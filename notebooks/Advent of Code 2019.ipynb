{
 "cells": [
  {
   "cell_type": "markdown",
   "metadata": {},
   "source": [
    "# Advent of Code 2019\n",
    "\n",
    "<div style=\"text-align: right\"> Vedic Partap </div>"
   ]
  },
  {
   "cell_type": "markdown",
   "metadata": {},
   "source": [
    "## Import and Utility Function"
   ]
  },
  {
   "cell_type": "code",
   "execution_count": 28,
   "metadata": {},
   "outputs": [],
   "source": [
    "import re\n",
    "import numpy as np\n",
    "\n",
    "def get_input(day:int, year:int, t:type=int)->str:\n",
    "    f  = \"../data/adventofcode/{}/{}.txt\".format(year,day)\n",
    "    with open(f,'r') as file:\n",
    "        return preprocess(file.readlines(),t);\n",
    "    \n",
    "def preprocess(S:str, t:type):\n",
    "    ans=[]\n",
    "    for s in S:\n",
    "        ans.append([t(x) for x in re.findall(r\"[\\w']+\", s)])\n",
    "    return ans\n",
    "\n",
    "    "
   ]
  },
  {
   "cell_type": "markdown",
   "metadata": {},
   "source": [
    "## [Day 1: The Tyranny of the Rocket Equation](https://adventofcode.com/2019/day/1)"
   ]
  },
  {
   "cell_type": "code",
   "execution_count": 125,
   "metadata": {},
   "outputs": [
    {
     "name": "stdout",
     "output_type": "stream",
     "text": [
      "Part 1: 3402609\n",
      "Part 2: 5101025\n"
     ]
    }
   ],
   "source": [
    "def part1(x:int)->int:\n",
    "    return x//3-2\n",
    "\n",
    "def part2(x:int)->int:\n",
    "    tot = 0\n",
    "    while x>0:\n",
    "        x = max(part1(x),0)\n",
    "        tot += x\n",
    "    return tot\n",
    "\n",
    "###################################\n",
    "\n",
    "input1 = get_input(1,2019)\n",
    "# PART-1\n",
    "output1 = sum([ part1(x[0]) for x in input1])\n",
    "print(\"Part 1:\", output1)\n",
    "\n",
    "# PART-2\n",
    "output2 = sum([ part2(x[0]) for x in input1])\n",
    "print(\"Part 2:\", output2)"
   ]
  },
  {
   "cell_type": "markdown",
   "metadata": {},
   "source": [
    "## [Day 2: 1202 Program Alarm](https://adventofcode.com/2019/day/2)"
   ]
  },
  {
   "cell_type": "code",
   "execution_count": 126,
   "metadata": {},
   "outputs": [
    {
     "name": "stdout",
     "output_type": "stream",
     "text": [
      "Part 1: 3716293\n",
      "Part 2: 6429\n"
     ]
    }
   ],
   "source": [
    "def solve(program: list, noun=12, verb=2)->int:\n",
    "    program[1] = noun\n",
    "    program[2] = verb\n",
    "    i = 0\n",
    "    while True:\n",
    "    #     print(input2[i])\n",
    "        if program[i] == 99:\n",
    "            break;\n",
    "        elif program[i] ==1:\n",
    "            program[program[i+3]] = program[program[i+1]] + program[program[i+2]]\n",
    "            i +=4\n",
    "        elif input2[i] ==2:\n",
    "            program[program[i+3]] = program[program[i+1]] * program[program[i+2]]\n",
    "            i +=4\n",
    "        else:\n",
    "            raise Exception('Something Went Wrong')\n",
    "    return program[0]\n",
    "\n",
    "###################################\n",
    "\n",
    "input2 = get_input(2,2019)[0]\n",
    "#PART-1\n",
    "program = input2[:]\n",
    "print(\"Part 1:\",solve(program))\n",
    "\n",
    "# PART-2\n",
    "for i in range(100):\n",
    "    for j in range(100):\n",
    "        program = input2[:]\n",
    "        if solve(program,i,j) == 19690720:\n",
    "            print(\"Part 2:\",100*i + j)"
   ]
  },
  {
   "cell_type": "markdown",
   "metadata": {},
   "source": [
    "## [Day 3: Crossed Wires](https://adventofcode.com/2019/day/3)"
   ]
  },
  {
   "cell_type": "code",
   "execution_count": 127,
   "metadata": {},
   "outputs": [
    {
     "name": "stdout",
     "output_type": "stream",
     "text": [
      "Part 1: 709\n",
      "Part 2: 13836\n"
     ]
    }
   ],
   "source": [
    "def change(direction:str)->tuple:\n",
    "        return {\n",
    "            'R':(1,0),\n",
    "            'L':(-1,0),\n",
    "            'U':(0,1),\n",
    "            'D':(0,-1)\n",
    "        }[direction]\n",
    "\n",
    "def addtuple(x:tuple, y:tuple)->tuple:\n",
    "    return (x[0]+y[0], x[1]+y[1])\n",
    "\n",
    "def traverse(steps:list, verbose)->dict:\n",
    "    points = dict()\n",
    "    curr = (0,0)\n",
    "    cnt = 1\n",
    "    for i in steps:\n",
    "        d = change(i[0])\n",
    "        num = int(i[1:])\n",
    "        for _ in range(num):\n",
    "            curr = addtuple(curr, d)\n",
    "            if curr not in points:\n",
    "                points[curr] = cnt\n",
    "            cnt+=1\n",
    "    return points\n",
    "\n",
    "def dis(x:tuple, y:tuple)->int:\n",
    "    return abs(x[0]-y[0])+abs(y[1]-x[1])\n",
    "\n",
    "###################################\n",
    "\n",
    "input3 = get_input(3,2019,str)\n",
    "\n",
    "\n",
    "# PART-1\n",
    "points0 = traverse(input3[0],0)\n",
    "points1 = traverse(input3[1],0)\n",
    "\n",
    "min_dis = 1e9\n",
    "origin = (0,0)\n",
    "for i in points0:\n",
    "    if i in points1:\n",
    "        min_dis = min(min_dis, dis(origin,i))\n",
    "print(\"Part 1:\", min_dis)\n",
    "\n",
    "# PART-2\n",
    "min_dis = 1e9\n",
    "for i in points0:\n",
    "    if i in points1:\n",
    "        min_dis = min(min_dis,points0[i]+points1[i])\n",
    "print(\"Part 2:\", min_dis)"
   ]
  },
  {
   "cell_type": "code",
   "execution_count": null,
   "metadata": {},
   "outputs": [],
   "source": []
  }
 ],
 "metadata": {
  "kernelspec": {
   "display_name": "Python 3",
   "language": "python",
   "name": "python3"
  },
  "language_info": {
   "codemirror_mode": {
    "name": "ipython",
    "version": 3
   },
   "file_extension": ".py",
   "mimetype": "text/x-python",
   "name": "python",
   "nbconvert_exporter": "python",
   "pygments_lexer": "ipython3",
   "version": "3.7.3"
  }
 },
 "nbformat": 4,
 "nbformat_minor": 2
}
