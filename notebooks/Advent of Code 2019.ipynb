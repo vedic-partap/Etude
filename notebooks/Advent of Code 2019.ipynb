{
 "cells": [
  {
   "cell_type": "markdown",
   "metadata": {},
   "source": [
    "# Advent of Code 2019\n",
    "\n",
    "<div style=\"text-align: right\"> Vedic Partap </div>"
   ]
  },
  {
   "cell_type": "markdown",
   "metadata": {},
   "source": [
    "## Import and Utility Function"
   ]
  },
  {
   "cell_type": "code",
   "execution_count": 22,
   "metadata": {},
   "outputs": [],
   "source": [
    "import re\n",
    "import numpy as np\n",
    "from itertools import combinations, permutations\n",
    "from collections import defaultdict \n",
    "import matplotlib.pyplot as plt \n",
    "\n",
    "def get_input(day:int, year:int, t:type=int)->str:\n",
    "    f  = \"../data/adventofcode/{}/{}.txt\".format(year,day)\n",
    "    with open(f,'r') as file:\n",
    "        return preprocess(file.readlines(),t);\n",
    "    \n",
    "def preprocess(S:str, t:type):\n",
    "    ans=[]\n",
    "    for s in S:\n",
    "        ans.append([t(x) for x in s.strip().split(',')])\n",
    "    return ans\n",
    "\n",
    "    "
   ]
  },
  {
   "cell_type": "markdown",
   "metadata": {},
   "source": [
    "## [Day 1: The Tyranny of the Rocket Equation](https://adventofcode.com/2019/day/1)"
   ]
  },
  {
   "cell_type": "code",
   "execution_count": 2,
   "metadata": {},
   "outputs": [
    {
     "name": "stdout",
     "output_type": "stream",
     "text": [
      "Part 1: 3402609\n",
      "Part 2: 5101025\n"
     ]
    }
   ],
   "source": [
    "def part1(x:int)->int:\n",
    "    return x//3-2\n",
    "\n",
    "def part2(x:int)->int:\n",
    "    tot = 0\n",
    "    while x>0:\n",
    "        x = max(part1(x),0)\n",
    "        tot += x\n",
    "    return tot\n",
    "\n",
    "###################################\n",
    "\n",
    "input1 = get_input(1,2019)\n",
    "# PART-1\n",
    "output1 = sum([ part1(x[0]) for x in input1])\n",
    "print(\"Part 1:\", output1)\n",
    "\n",
    "# PART-2\n",
    "output2 = sum([ part2(x[0]) for x in input1])\n",
    "print(\"Part 2:\", output2)"
   ]
  },
  {
   "cell_type": "markdown",
   "metadata": {},
   "source": [
    "## [Day 2: 1202 Program Alarm](https://adventofcode.com/2019/day/2)"
   ]
  },
  {
   "cell_type": "code",
   "execution_count": 3,
   "metadata": {},
   "outputs": [
    {
     "name": "stdout",
     "output_type": "stream",
     "text": [
      "Part 1: 3716293\n",
      "Part 2: 6429\n"
     ]
    }
   ],
   "source": [
    "def solve(program: list, noun=12, verb=2)->int:\n",
    "    program[1] = noun\n",
    "    program[2] = verb\n",
    "    i = 0\n",
    "    while True:\n",
    "    #     print(input2[i])\n",
    "        if program[i] == 99:\n",
    "            break;\n",
    "        elif program[i] ==1:\n",
    "            program[program[i+3]] = program[program[i+1]] + program[program[i+2]]\n",
    "            i +=4\n",
    "        elif input2[i] ==2:\n",
    "            program[program[i+3]] = program[program[i+1]] * program[program[i+2]]\n",
    "            i +=4\n",
    "        else:\n",
    "            raise Exception('Something Went Wrong')\n",
    "    return program[0]\n",
    "\n",
    "###################################\n",
    "\n",
    "input2 = get_input(2,2019)[0]\n",
    "#PART-1\n",
    "program = input2[:]\n",
    "print(\"Part 1:\",solve(program))\n",
    "\n",
    "# PART-2\n",
    "for i in range(100):\n",
    "    for j in range(100):\n",
    "        program = input2[:]\n",
    "        if solve(program,i,j) == 19690720:\n",
    "            print(\"Part 2:\",100*i + j)"
   ]
  },
  {
   "cell_type": "markdown",
   "metadata": {},
   "source": [
    "## [Day 3: Crossed Wires](https://adventofcode.com/2019/day/3)"
   ]
  },
  {
   "cell_type": "code",
   "execution_count": 4,
   "metadata": {},
   "outputs": [
    {
     "name": "stdout",
     "output_type": "stream",
     "text": [
      "Part 1: 709\n",
      "Part 2: 13836\n"
     ]
    }
   ],
   "source": [
    "def change(direction:str)->tuple:\n",
    "        return {\n",
    "            'R':(1,0),\n",
    "            'L':(-1,0),\n",
    "            'U':(0,1),\n",
    "            'D':(0,-1)\n",
    "        }[direction]\n",
    "\n",
    "def addtuple(x:tuple, y:tuple)->tuple:\n",
    "    return (x[0]+y[0], x[1]+y[1])\n",
    "\n",
    "def traverse(steps:list, verbose)->dict:\n",
    "    points = dict()\n",
    "    curr = (0,0)\n",
    "    cnt = 1\n",
    "    for i in steps:\n",
    "        d = change(i[0])\n",
    "        num = int(i[1:])\n",
    "        for _ in range(num):\n",
    "            curr = addtuple(curr, d)\n",
    "            if curr not in points:\n",
    "                points[curr] = cnt\n",
    "            cnt+=1\n",
    "    return points\n",
    "\n",
    "def dis(x:tuple, y:tuple)->int:\n",
    "    return abs(x[0]-y[0])+abs(y[1]-x[1])\n",
    "\n",
    "###################################\n",
    "\n",
    "input3 = get_input(3,2019,str)\n",
    "\n",
    "\n",
    "# PART-1\n",
    "points0 = traverse(input3[0],0)\n",
    "points1 = traverse(input3[1],0)\n",
    "\n",
    "min_dis = 1e9\n",
    "origin = (0,0)\n",
    "for i in points0:\n",
    "    if i in points1:\n",
    "        min_dis = min(min_dis, dis(origin,i))\n",
    "print(\"Part 1:\", min_dis)\n",
    "\n",
    "# PART-2\n",
    "min_dis = 1e9\n",
    "for i in points0:\n",
    "    if i in points1:\n",
    "        min_dis = min(min_dis,points0[i]+points1[i])\n",
    "print(\"Part 2:\", min_dis)"
   ]
  },
  {
   "cell_type": "markdown",
   "metadata": {},
   "source": [
    "## [Day 4: Secure Container](https://adventofcode.com/2019/day/4)"
   ]
  },
  {
   "cell_type": "code",
   "execution_count": 5,
   "metadata": {},
   "outputs": [
    {
     "name": "stdout",
     "output_type": "stream",
     "text": [
      "Part 1: 2814\n",
      "Part 2: 1991\n"
     ]
    }
   ],
   "source": [
    "def check(num:int, part:int=1)->bool:\n",
    "    s = str(num)\n",
    "    same = False\n",
    "    cnt = 1\n",
    "    for i in range(1,6):\n",
    "        if s[i]==s[i-1]:\n",
    "            cnt +=1\n",
    "        elif s[i]<s[i-1]:\n",
    "            return False\n",
    "        else:\n",
    "            if part==2:\n",
    "                same = same or (cnt==2)\n",
    "            else:\n",
    "                same = same or (cnt>=2)\n",
    "            cnt = 1\n",
    "    if part==2:\n",
    "        same = same or (cnt==2)\n",
    "    else:\n",
    "        same = same or (cnt>=2)\n",
    "    return same\n",
    "\n",
    "###################################\n",
    "\n",
    "input4 = [109165,576723]\n",
    "output1 = sum([check(i) for i in range(input4[0],input4[1]+1) ])\n",
    "print(\"Part 1:\", output1)\n",
    "\n",
    "output2 = sum([check(i,2) for i in range(input4[0],input4[1]+1) ])\n",
    "print(\"Part 2:\", output2)"
   ]
  },
  {
   "cell_type": "markdown",
   "metadata": {},
   "source": [
    "## [Day 5: Sunny with a Chance of Asteroids](https://adventofcode.com/2019/day/5)"
   ]
  },
  {
   "cell_type": "code",
   "execution_count": 6,
   "metadata": {},
   "outputs": [
    {
     "name": "stdout",
     "output_type": "stream",
     "text": [
      "Part 1: 13978427\n",
      "Part 2: 11189491\n"
     ]
    }
   ],
   "source": [
    "def solve_adv(program: list, inputs:list, program_counter:int=0)->list:\n",
    "    i = program_counter\n",
    "    input_counter = 0\n",
    "    ans = []\n",
    "    while True:\n",
    "#         print(i)\n",
    "        ins = \"{:0>5}\".format(str(program[i]))\n",
    "#         print(ins)\n",
    "        opcode, opcode1, mode1, mode2,mode3 = [int(x) for x in ins[::-1]]\n",
    "        if opcode==9:\n",
    "            break\n",
    "        elif opcode==3:\n",
    "            if input_counter>=len(inputs):\n",
    "                return [ans, program, i, 0]\n",
    "            program[program[i+1]]=inputs[input_counter]\n",
    "            input_counter+=1\n",
    "            i+=2\n",
    "        elif opcode==4:\n",
    "            ans.append(program[i+1] if mode1 else program[program[i+1]])\n",
    "            i += 2\n",
    "        elif opcode==5 or opcode==6:\n",
    "            a = program[i+1] if mode1 else program[program[i+1]]\n",
    "            b = program[i+2] if mode2 else program[program[i+2]]\n",
    "            if (a and opcode==5) or (a==0 and opcode==6):\n",
    "                i = b\n",
    "            else:\n",
    "                i += 3\n",
    "        elif opcode==7:\n",
    "            a = program[i+1] if mode1 else program[program[i+1]]\n",
    "            b = program[i+2] if mode2 else program[program[i+2]]\n",
    "            program[program[i+3]] = 1 if a<b else 0\n",
    "            i += 4\n",
    "            \n",
    "        elif opcode==8:\n",
    "            a = program[i+1] if mode1 else program[program[i+1]]\n",
    "            b = program[i+2] if mode2 else program[program[i+2]]\n",
    "            program[program[i+3]] = 1 if a==b else 0\n",
    "            i += 4\n",
    "                \n",
    "        else:\n",
    "            a = program[i+1] if mode1 else program[program[i+1]]\n",
    "            b = program[i+2] if mode2 else program[program[i+2]]\n",
    "            if opcode==1:\n",
    "                program[program[i+3]] = a+b\n",
    "            elif opcode==2:\n",
    "                program[program[i+3]] = a*b\n",
    "            else:\n",
    "                print(\"ERROR: \",i,program[i])\n",
    "                raise Exception('Something Went Wrong')\n",
    "            i += 4\n",
    "    return [ans, program, i,1]\n",
    "\n",
    "###################################\n",
    "\n",
    "input5 = get_input(5,2019)[0]\n",
    "output5_1 = solve_adv(input5[:],[1])[0]\n",
    "print(\"Part 1:\", output5_1[-1]) # Part 1: 13978427\n",
    "\n",
    "output5_2 = solve_adv(input5[:],[5])[0]\n",
    "print(\"Part 2:\", output5_2[-1]) # Part 2: 11189491"
   ]
  },
  {
   "cell_type": "markdown",
   "metadata": {},
   "source": [
    "   ## [Day 6: Universal Orbit Map](https://adventofcode.com/2019/day/6)"
   ]
  },
  {
   "cell_type": "code",
   "execution_count": 7,
   "metadata": {},
   "outputs": [
    {
     "name": "stdout",
     "output_type": "stream",
     "text": [
      "Part 1: 122782\n",
      "Part 2: 271\n"
     ]
    }
   ],
   "source": [
    "ans =0\n",
    "def solve6(data:list)->int:\n",
    "    global ans\n",
    "    ans =0\n",
    "    g = defaultdict(list)\n",
    "    nodes = set()\n",
    "    parent = defaultdict()\n",
    "    for i in data:\n",
    "        x,y = i[0].split(')')\n",
    "#         print(x,y)\n",
    "        g[x].append(y)\n",
    "        nodes.add(x)\n",
    "        nodes.add(y)\n",
    "        parent[y] = x\n",
    "    visited = {k:0 for k in nodes}\n",
    "    for node in nodes - parent.keys():\n",
    "        if not visited[node]:\n",
    "            dfs(g,node,visited,0)\n",
    "    visited = {k:0 for k in nodes}\n",
    "    dis = find_dis('YOU','SAN',g,visited,parent)\n",
    "    return ans,dis-2\n",
    "        \n",
    "def dfs(g:dict, node:str, visited:dict, depth:int):\n",
    "    global ans\n",
    "#     print(node,ans)\n",
    "    visited[node] = 1\n",
    "    ans += depth\n",
    "    for child in g[node]:\n",
    "        if not visited[child]:\n",
    "            dfs(g, child, visited, depth+1)\n",
    "    \n",
    "def find_dis(node1:str, node2:2, g:dict, visited:dict, parent:dict)->int:\n",
    "    if(node1==node2):\n",
    "        return 0\n",
    "    visited[node1] = 1\n",
    "    mini = 1e9\n",
    "    for child in g[node1]:\n",
    "        if not visited[child]:\n",
    "            mini = min(mini,find_dis(child,node2, g, visited, parent))\n",
    "    if node1 in parent and not visited[parent[node1]]:\n",
    "        mini = min(mini,find_dis(parent[node1],node2, g, visited, parent))\n",
    "    return mini+1\n",
    " \n",
    "###################################\n",
    "input6  = get_input(6,2019,str)\n",
    "output6_1,output6_2  = solve6(input6)\n",
    "print(\"Part 1:\",output6_1) # 122782\n",
    "print(\"Part 2:\", output6_2) #271\n"
   ]
  },
  {
   "cell_type": "markdown",
   "metadata": {},
   "source": [
    "## [Day 7: Amplification Circuit](https://adventofcode.com/2019/day/7)"
   ]
  },
  {
   "cell_type": "code",
   "execution_count": 8,
   "metadata": {},
   "outputs": [
    {
     "name": "stdout",
     "output_type": "stream",
     "text": [
      "Part 1: 11828\n",
      "Part 2: 1714298\n"
     ]
    }
   ],
   "source": [
    "def find_maximum(program:list, values:list)->int:\n",
    "    maxy = 0\n",
    "    for i in permutations(values, r=5):\n",
    "        i = [int(x) for x in i]\n",
    "        out = solve7(program[:],i)\n",
    "        if out > maxy:\n",
    "            maxy = out\n",
    "    return maxy\n",
    "\n",
    "def solve7(program:list, setting:list)->int:\n",
    "    NUM_PROC = 5\n",
    "    processes = [[program[:],0] for i in range(NUM_PROC)]\n",
    "    inputs = [[i] for i in setting]\n",
    "    inputs[0].append(0) # start signal\n",
    "    output = 0\n",
    "    process_count = 0\n",
    "    halt_process = []\n",
    "    while True:\n",
    "        if len(halt_process)==NUM_PROC:\n",
    "            break\n",
    "        if process_count not in halt_process:\n",
    "            out = solve_adv(processes[process_count][0], # Program\n",
    "                              inputs[process_count],   # input\n",
    "                              processes[process_count][1]) # program counter\n",
    "            if out[3] == 1:\n",
    "                halt_process.append(process_count)\n",
    "            processes[process_count] = [out[1], out[2]]\n",
    "            inputs[process_count] = []\n",
    "            \n",
    "            process_count = (process_count+1)%NUM_PROC\n",
    "            inputs[process_count].append(out[0][0])\n",
    "        else:\n",
    "            process_count = (process_count+1)%NUM_PROC\n",
    "    return out[0][0]     \n",
    "\n",
    "###################################\n",
    "\n",
    "input7 = get_input(7,2019)[0]\n",
    "values = [0,1,2,3,4]\n",
    "print(\"Part 1:\",find_maximum(input7[:], values))\n",
    "\n",
    "values = [5,6,7,8,9]\n",
    "print(\"Part 2:\",find_maximum(input7[:], values))"
   ]
  },
  {
   "cell_type": "code",
   "execution_count": 23,
   "metadata": {},
   "outputs": [
    {
     "name": "stdout",
     "output_type": "stream",
     "text": [
      "Part 1: 1596\n",
      "Part 2:\n"
     ]
    },
    {
     "data": {
      "image/png": "[encoded data removed]",
      "text/plain": [
       "<Figure size 432x288 with 1 Axes>"
      ]
     },
     "metadata": {
      "needs_background": "light"
     },
     "output_type": "display_data"
    }
   ],
   "source": [
    "def count_dis(s:str)->list:\n",
    "    return [s.count(i) for i in ['0','1','2']]\n",
    "    \n",
    "def decode(layers:list)->list:\n",
    "    ans = [0 for _ in layers[0]]\n",
    "    for i in range(X*Y):\n",
    "        for layer in layers:\n",
    "#             print(layer)\n",
    "            if layer[i] <= '1':\n",
    "                ans[i] = layer[i]\n",
    "                break\n",
    "    return \"\".join(ans)\n",
    "\n",
    "\n",
    "###################################\n",
    "\n",
    "input8 = get_input(8,2019,str)[0][0]\n",
    "X = 25\n",
    "Y = 6\n",
    "\n",
    "layers = [input8[i:i+X*Y] for i in range(0,len(input8),X*Y)]\n",
    "counts = [count_dis(i) for i in layers]\n",
    "sorted_layers = sorted(counts)\n",
    "print(\"Part 1:\", sorted_layers[0][1]*sorted_layers[0][2])\n",
    "# print(layers)\n",
    "out = decode(layers)\n",
    "image_2d  = [[int(x) for x in out[i:i+25]] for i in range(0,150,25)]\n",
    "print(\"Part 2:\")\n",
    "mat = np.array(image_2d)\n",
    "plt.imshow(mat,interpolation='nearest');"
   ]
  },
  {
   "cell_type": "code",
   "execution_count": null,
   "metadata": {},
   "outputs": [],
   "source": []
  }
 ],
 "metadata": {
  "kernelspec": {
   "display_name": "Python 3",
   "language": "python",
   "name": "python3"
  },
  "language_info": {
   "codemirror_mode": {
    "name": "ipython",
    "version": 3
   },
   "file_extension": ".py",
   "mimetype": "text/x-python",
   "name": "python",
   "nbconvert_exporter": "python",
   "pygments_lexer": "ipython3",
   "version": "3.7.3"
  }
 },
 "nbformat": 4,
 "nbformat_minor": 2
}
